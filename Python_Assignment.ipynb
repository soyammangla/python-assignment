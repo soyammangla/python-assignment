{
 "cells": [
  {
   "cell_type": "code",
   "execution_count": 1,
   "id": "d74ecb9d-0b1a-45dd-8370-9f2506f22128",
   "metadata": {},
   "outputs": [
    {
     "name": "stdout",
     "output_type": "stream",
     "text": [
      "45\n"
     ]
    }
   ],
   "source": [
    "#1.Find the second largest number in a list (without sort())\n",
    "def second_largest(nums):\n",
    "    largest = second = float('-inf')\n",
    "    for num in nums:\n",
    "        if num > largest:\n",
    "            second = largest\n",
    "            largest = num\n",
    "        elif largest > num > second:#\n",
    "            second = num\n",
    "    return second\n",
    "\n",
    "print(second_largest([10, 20, 4, 45, 99]))\n"
   ]
  },
  {
   "cell_type": "code",
   "execution_count": 3,
   "id": "07c5536d-8778-4e2f-85b3-99b43a393bca",
   "metadata": {},
   "outputs": [
    {
     "name": "stdout",
     "output_type": "stream",
     "text": [
      "[1, 2, 3, 4, 8]\n"
     ]
    }
   ],
   "source": [
    "#2. Remove duplicates without set() and return sorted list\n",
    "\n",
    "def remove_duplicates(lst):\n",
    "    unique = []\n",
    "    for item in lst:\n",
    "        if item not in unique:\n",
    "            unique.append(item)\n",
    "    # Now sort manually\n",
    "    for i in range(len(unique)):\n",
    "        for j in range(i+1, len(unique)):\n",
    "            if unique[i] > unique[j]:\n",
    "                unique[i], unique[j] = unique[j], unique[i]\n",
    "    return unique\n",
    "\n",
    "print(remove_duplicates([4, 2, 2, 8, 3, 3, 1]))"
   ]
  },
  {
   "cell_type": "code",
   "execution_count": 5,
   "id": "6737a8a2-95aa-4fe8-a82b-d27b6180da0a",
   "metadata": {},
   "outputs": [
    {
     "name": "stdout",
     "output_type": "stream",
     "text": [
      "Sum: 150 Average: 30.0\n"
     ]
    }
   ],
   "source": [
    "#3. Find sum and average of a list\n",
    "\n",
    "def sum_and_average(lst):\n",
    "    total = sum(lst)\n",
    "    avg = total / len(lst) if lst else 0\n",
    "    return total, avg\n",
    "\n",
    "numbers = [10, 20, 30, 40, 50]\n",
    "s, a = sum_and_average(numbers)\n",
    "print(\"Sum:\", s, \"Average:\", a)"
   ]
  },
  {
   "cell_type": "code",
   "execution_count": 7,
   "id": "291ae8b3-a95f-4a4f-b7f3-d6eaa735bd50",
   "metadata": {},
   "outputs": [
    {
     "name": "stdout",
     "output_type": "stream",
     "text": [
      "True\n"
     ]
    }
   ],
   "source": [
    "#4. Check if a number is prime\n",
    "\n",
    "def is_prime(n):\n",
    "    if n <= 1:\n",
    "        return False\n",
    "    for i in range(2, int(n**0.5) + 1):\n",
    "        if n % i == 0:\n",
    "            return False\n",
    "    return True\n",
    "\n",
    "print(is_prime(29))"
   ]
  },
  {
   "cell_type": "code",
   "execution_count": 8,
   "id": "23f1ba8a-5aab-46c4-aa4c-aa958dc095ba",
   "metadata": {},
   "outputs": [
    {
     "name": "stdout",
     "output_type": "stream",
     "text": [
      "Vowels: 3 Consonants: 7 Digits: 3 Special Characters: 3\n"
     ]
    }
   ],
   "source": [
    "#5. Count vowels, consonants, digits, and special characters\n",
    "\n",
    "def count_elements(s):\n",
    "    vowels = \"aeiouAEIOU\"\n",
    "    vowel_count = consonant_count = digit_count = special_count = 0\n",
    "\n",
    "    for char in s:\n",
    "        if char.isalpha():\n",
    "            if char in vowels:\n",
    "                vowel_count += 1\n",
    "            else:\n",
    "                consonant_count += 1\n",
    "        elif char.isdigit():\n",
    "            digit_count += 1\n",
    "        else:\n",
    "            special_count += 1\n",
    "\n",
    "    return vowel_count, consonant_count, digit_count, special_count\n",
    "\n",
    "v, c, d, s = count_elements(\"Hello World! 123\")\n",
    "print(\"Vowels:\", v, \"Consonants:\", c, \"Digits:\", d, \"Special Characters:\", s)"
   ]
  },
  {
   "cell_type": "code",
   "execution_count": 9,
   "id": "81f664e6-b81c-4b35-a5e3-663da52d92bf",
   "metadata": {},
   "outputs": [
    {
     "name": "stdout",
     "output_type": "stream",
     "text": [
      "2 4 6 8 10 12 14 16 18 20 22 24 26 28 30 32 34 36 38 40 42 44 46 48 50 52 54 56 58 60 62 64 66 68 70 72 74 76 78 80 82 84 86 88 90 92 94 96 98 100 "
     ]
    }
   ],
   "source": [
    "#6. Print all even numbers from 1 to 100\n",
    "\n",
    "for i in range(2, 101, 2):\n",
    "    print(i, end=' ')"
   ]
  },
  {
   "cell_type": "code",
   "execution_count": 11,
   "id": "643a9f65-047d-4e37-b046-32a1382fec51",
   "metadata": {},
   "outputs": [
    {
     "name": "stdin",
     "output_type": "stream",
     "text": [
      "Enter a number:  5\n"
     ]
    },
    {
     "name": "stdout",
     "output_type": "stream",
     "text": [
      "5 x 1 = 5\n",
      "5 x 2 = 10\n",
      "5 x 3 = 15\n",
      "5 x 4 = 20\n",
      "5 x 5 = 25\n",
      "5 x 6 = 30\n",
      "5 x 7 = 35\n",
      "5 x 8 = 40\n",
      "5 x 9 = 45\n",
      "5 x 10 = 50\n"
     ]
    }
   ],
   "source": [
    "#7. Multiplication table of a number (user input)\n",
    "num = int(input(\"Enter a number: \"))\n",
    "for i in range(1, 11):\n",
    "    print(f\"{num} x {i} = {num * i}\")\n",
    "    \n"
   ]
  },
  {
   "cell_type": "code",
   "execution_count": 12,
   "id": "c40f6727-ab87-4d09-a395-84f65153aedb",
   "metadata": {},
   "outputs": [
    {
     "name": "stdout",
     "output_type": "stream",
     "text": [
      "[15, 30, 45, 60, 75, 90]\n"
     ]
    }
   ],
   "source": [
    "#8. Numbers from 1 to 100 divisible by both 3 and 5\n",
    "divisible = [i for i in range(1, 101) if i % 3 == 0 and i % 5 == 0]\n",
    "print(divisible)"
   ]
  },
  {
   "cell_type": "code",
   "execution_count": 14,
   "id": "7c1fa109-7bd2-4a86-aced-51dcef9da4b5",
   "metadata": {},
   "outputs": [
    {
     "name": "stdin",
     "output_type": "stream",
     "text": [
      "Enter a number:  123\n"
     ]
    },
    {
     "name": "stdout",
     "output_type": "stream",
     "text": [
      "Reversed number: 321\n"
     ]
    }
   ],
   "source": [
    "#9. Reverse a number\n",
    "\n",
    "num = int(input(\"Enter a number: \"))\n",
    "reverse = 0\n",
    "while num > 0:\n",
    "    reverse = reverse * 10 + num % 10\n",
    "    num //= 10\n",
    "print(\"Reversed number:\", reverse)"
   ]
  },
  {
   "cell_type": "code",
   "execution_count": 15,
   "id": "bb3399ed-3ddf-4c7b-8327-feef174b2d17",
   "metadata": {},
   "outputs": [
    {
     "name": "stdout",
     "output_type": "stream",
     "text": [
      "{'p': 1, 'r': 2, 'o': 1, 'g': 2, 'a': 1, 'm': 2, 'i': 1, 'n': 1}\n"
     ]
    }
   ],
   "source": [
    "#10. Frequency of each character in a string\n",
    "\n",
    "def char_frequency(s):\n",
    "    freq = {}\n",
    "    for char in s:\n",
    "        if char in freq:\n",
    "            freq[char] += 1\n",
    "        else:\n",
    "            freq[char] = 1\n",
    "    return freq\n",
    "\n",
    "print(char_frequency(\"programming\"))"
   ]
  },
  {
   "cell_type": "code",
   "execution_count": 16,
   "id": "f8c871b9-c8c1-4521-bdb4-4bc1eeb7943b",
   "metadata": {},
   "outputs": [
    {
     "name": "stdout",
     "output_type": "stream",
     "text": [
      "[2, 3, 5, 7, 11, 13, 17, 19, 23, 29]\n"
     ]
    }
   ],
   "source": [
    "#11. Generate the first n prime numbers\n",
    "\n",
    "def generate_primes(n):\n",
    "    primes = []\n",
    "    num = 2\n",
    "    while len(primes) < n:\n",
    "        for i in range(2, int(num**0.5) + 1):\n",
    "            if num % i == 0:\n",
    "                break\n",
    "        else:\n",
    "            primes.append(num)\n",
    "        num += 1\n",
    "    return primes\n",
    "\n",
    "print(generate_primes(10))"
   ]
  },
  {
   "cell_type": "code",
   "execution_count": 17,
   "id": "5fe84f6c-1f81-481b-ae7f-067e7cb6895e",
   "metadata": {},
   "outputs": [
    {
     "name": "stdout",
     "output_type": "stream",
     "text": [
      "True\n",
      "False\n"
     ]
    }
   ],
   "source": [
    "#12. Check whether a number is a palindrome or not\n",
    "def is_palindrome(n):\n",
    "    original = str(n)\n",
    "    return original == original[::-1]\n",
    "\n",
    "print(is_palindrome(121))   \n",
    "print(is_palindrome(123))   "
   ]
  },
  {
   "cell_type": "code",
   "execution_count": 18,
   "id": "95a0beb9-b86d-481c-a3e8-e5fa7fae2988",
   "metadata": {},
   "outputs": [
    {
     "name": "stdout",
     "output_type": "stream",
     "text": [
      "3\n"
     ]
    }
   ],
   "source": [
    "#13. Count how many times a specific element appears in a list\n",
    "\n",
    "def count_element(lst, element):\n",
    "    count = 0\n",
    "    for item in lst:\n",
    "        if item == element:\n",
    "            count += 1\n",
    "    return count\n",
    "\n",
    "numbers = [1, 2, 3, 2, 4, 2, 5]\n",
    "print(count_element(numbers, 2))"
   ]
  },
  {
   "cell_type": "code",
   "execution_count": 19,
   "id": "660552c5-2014-409d-a7c4-cb2ba74f182c",
   "metadata": {},
   "outputs": [
    {
     "name": "stdout",
     "output_type": "stream",
     "text": [
      "[4, 16, 36, 64, 100, 144, 196, 256, 324, 400, 484, 576, 676, 784, 900, 1024, 1156, 1296, 1444, 1600, 1764, 1936, 2116, 2304, 2500]\n"
     ]
    }
   ],
   "source": [
    "#14. List of squares of even numbers between 1 and 50\n",
    "\n",
    "squares = [i**2 for i in range(1, 51) if i % 2 == 0]\n",
    "print(squares)"
   ]
  },
  {
   "cell_type": "code",
   "execution_count": 21,
   "id": "eb5d6762-2f32-42ee-8a22-ef31d3d438ae",
   "metadata": {},
   "outputs": [
    {
     "name": "stdout",
     "output_type": "stream",
     "text": [
      "[1, 2, 3, 4, 5]\n"
     ]
    }
   ],
   "source": [
    "#15. Accept a list and return a new list with only unique elements (preserve order)\n",
    "def unique_elements(lst):\n",
    "    unique = []\n",
    "    for item in lst:\n",
    "        if item not in unique:\n",
    "            unique.append(item)\n",
    "    return unique\n",
    "\n",
    "sample = [1, 2, 2, 3, 4, 3, 5]\n",
    "print(unique_elements(sample))"
   ]
  },
  {
   "cell_type": "code",
   "execution_count": 22,
   "id": "cf463c56-093c-4c9d-8ced-4f8fe7dafbae",
   "metadata": {},
   "outputs": [],
   "source": [
    "#section B"
   ]
  },
  {
   "cell_type": "code",
   "execution_count": 23,
   "id": "406d2099-6e56-49dc-a204-28276ef8d794",
   "metadata": {},
   "outputs": [
    {
     "name": "stdout",
     "output_type": "stream",
     "text": [
      "Odd\n"
     ]
    }
   ],
   "source": [
    "#16. Check if a number is even or odd\n",
    "\n",
    "def even_or_odd(n):\n",
    "    return \"Even\" if n % 2 == 0 else \"Odd\"\n",
    "\n",
    "print(even_or_odd(7))"
   ]
  },
  {
   "cell_type": "code",
   "execution_count": 24,
   "id": "38198eac-6499-4fd7-82f4-f57e3d6a8dac",
   "metadata": {},
   "outputs": [
    {
     "name": "stdout",
     "output_type": "stream",
     "text": [
      "[1, 3, 6, 10]\n"
     ]
    }
   ],
   "source": [
    "#17. Return cumulative sum of a list\n",
    "\n",
    "def cumulative_sum(lst):\n",
    "    result = []\n",
    "    total = 0\n",
    "    for num in lst:\n",
    "        total += num\n",
    "        result.append(total)\n",
    "    return result\n",
    "\n",
    "print(cumulative_sum([1, 2, 3, 4]))"
   ]
  },
  {
   "cell_type": "code",
   "execution_count": 25,
   "id": "0f97a93b-f383-43f7-b0ac-435265443975",
   "metadata": {},
   "outputs": [
    {
     "name": "stdout",
     "output_type": "stream",
     "text": [
      "120\n"
     ]
    }
   ],
   "source": [
    "#18. Recursive factorial function\n",
    "\n",
    "\n",
    "def factorial(n):\n",
    "    if n == 0 or n == 1:\n",
    "        return 1\n",
    "    return n * factorial(n - 1)\n",
    "\n",
    "print(factorial(5))"
   ]
  },
  {
   "cell_type": "code",
   "execution_count": 26,
   "id": "7c312538-cc97-4d16-b91c-42fb448f806d",
   "metadata": {},
   "outputs": [
    {
     "name": "stdout",
     "output_type": "stream",
     "text": [
      "[0, 1, 1, 2, 3, 5, 8, 13, 21, 34]\n"
     ]
    }
   ],
   "source": [
    "#19. Print Fibonacci series up to n terms\n",
    "\n",
    "def fibonacci(n):\n",
    "    a, b = 0, 1\n",
    "    series = []\n",
    "    for _ in range(n):\n",
    "        series.append(a)\n",
    "        a, b = b, a + b\n",
    "    return series\n",
    "\n",
    "print(fibonacci(10))"
   ]
  },
  {
   "cell_type": "code",
   "execution_count": 27,
   "id": "58bb500a-c92a-4e2b-9819-839c505f0fb4",
   "metadata": {},
   "outputs": [
    {
     "name": "stdout",
     "output_type": "stream",
     "text": [
      "True\n"
     ]
    }
   ],
   "source": [
    "#20. Check if a string is a palindrome\n",
    "\n",
    "def is_palindrome_string(s):\n",
    "    return s == s[::-1]\n",
    "\n",
    "print(is_palindrome_string(\"madam\"))"
   ]
  },
  {
   "cell_type": "code",
   "execution_count": 28,
   "id": "3d06b109-1c1b-42eb-8f27-ef6d058983d2",
   "metadata": {},
   "outputs": [
    {
     "name": "stdout",
     "output_type": "stream",
     "text": [
      "(9, 1)\n"
     ]
    }
   ],
   "source": [
    "#21. Return max and min from a list\n",
    "\n",
    "def max_min(lst):\n",
    "    return max(lst), min(lst)\n",
    "\n",
    "print(max_min([4, 1, 9, 2]))"
   ]
  },
  {
   "cell_type": "code",
   "execution_count": 29,
   "id": "56b7dfc8-69cc-44fe-83ff-3cdbd6c335ed",
   "metadata": {},
   "outputs": [
    {
     "name": "stdout",
     "output_type": "stream",
     "text": [
      "True\n"
     ]
    }
   ],
   "source": [
    "#22. Check if a string is a pangram\n",
    "\n",
    "def is_pangram(s):\n",
    "    alphabet = set('abcdefghijklmnopqrstuvwxyz')\n",
    "    return alphabet.issubset(s.lower())\n",
    "\n",
    "print(is_pangram(\"The quick brown fox jumps over the lazy dog\"))"
   ]
  },
  {
   "cell_type": "code",
   "execution_count": 30,
   "id": "79815b07-1b4f-40eb-ba64-6eb16f1621e2",
   "metadata": {},
   "outputs": [
    {
     "name": "stdout",
     "output_type": "stream",
     "text": [
      "[11, 13, 17, 19, 23, 29, 31, 37, 41, 43, 47]\n"
     ]
    }
   ],
   "source": [
    "#23. Return all prime numbers in a range\n",
    "\n",
    "def primes_in_range(start, end):\n",
    "    primes = []\n",
    "    for num in range(start, end + 1):\n",
    "        if num > 1:\n",
    "            for i in range(2, int(num**0.5) + 1):\n",
    "                if num % i == 0:\n",
    "                    break\n",
    "            else:\n",
    "                primes.append(num)\n",
    "    return primes\n",
    "\n",
    "print(primes_in_range(10, 50))"
   ]
  },
  {
   "cell_type": "code",
   "execution_count": 31,
   "id": "ea1f9c4b-c3e7-4900-80f7-6a05b3b39962",
   "metadata": {},
   "outputs": [
    {
     "name": "stdout",
     "output_type": "stream",
     "text": [
      "(2, 8)\n"
     ]
    }
   ],
   "source": [
    "#24. Count uppercase and lowercase letters\n",
    "\n",
    "def count_case(s):\n",
    "    upper = lower = 0\n",
    "    for char in s:\n",
    "        if char.isupper():\n",
    "            upper += 1\n",
    "        elif char.islower():\n",
    "            lower += 1\n",
    "    return upper, lower\n",
    "\n",
    "print(count_case(\"Hello World!\"))"
   ]
  },
  {
   "cell_type": "code",
   "execution_count": 32,
   "id": "4212d210-4ef6-4f43-ad37-1d9e1b052cc4",
   "metadata": {},
   "outputs": [
    {
     "name": "stdout",
     "output_type": "stream",
     "text": [
      "10\n"
     ]
    }
   ],
   "source": [
    "#25. Sum of digits of a number\n",
    "\n",
    "def sum_of_digits(n):\n",
    "    return sum(int(digit) for digit in str(abs(n)))\n",
    "\n",
    "print(sum_of_digits(1234))"
   ]
  },
  {
   "cell_type": "code",
   "execution_count": 33,
   "id": "67ec6202-60f8-47ce-af74-6216ccd326e7",
   "metadata": {},
   "outputs": [
    {
     "name": "stdout",
     "output_type": "stream",
     "text": [
      "5\n"
     ]
    }
   ],
   "source": [
    "#26. Count words in a sentence\n",
    "\n",
    "def count_words(sentence):\n",
    "    words = sentence.split()\n",
    "    return len(words)\n",
    "\n",
    "print(count_words(\"This is a test sentence.\"))"
   ]
  },
  {
   "cell_type": "code",
   "execution_count": 34,
   "id": "afd0e5c2-a5fa-4f78-8f2b-4066cf03eb38",
   "metadata": {},
   "outputs": [
    {
     "name": "stdout",
     "output_type": "stream",
     "text": [
      "Hello World\n"
     ]
    }
   ],
   "source": [
    "#27. Remove all punctuation from a string\n",
    "\n",
    "import string\n",
    "\n",
    "def remove_punctuation(s):\n",
    "    return ''.join(char for char in s if char not in string.punctuation)\n",
    "\n",
    "print(remove_punctuation(\"Hello, World!\"))"
   ]
  },
  {
   "cell_type": "code",
   "execution_count": 35,
   "id": "03c6fdac-a89b-4225-8443-9ac0e76fda6f",
   "metadata": {},
   "outputs": [
    {
     "name": "stdout",
     "output_type": "stream",
     "text": [
      "6\n"
     ]
    }
   ],
   "source": [
    "#28. Find GCD of two numbers\n",
    "\n",
    "def gcd(a, b):\n",
    "    while b:\n",
    "        a, b = b, a % b\n",
    "    return a\n",
    "\n",
    "print(gcd(48, 18))"
   ]
  },
  {
   "cell_type": "code",
   "execution_count": 36,
   "id": "31716d2d-6b5c-4774-b1d2-d2e0ecb0f348",
   "metadata": {},
   "outputs": [
    {
     "name": "stdout",
     "output_type": "stream",
     "text": [
      "[1, 2]\n"
     ]
    }
   ],
   "source": [
    "#29. Return elements that appear more than once\n",
    "\n",
    "def duplicates(lst):\n",
    "    seen = {}\n",
    "    result = []\n",
    "    for item in lst:\n",
    "        seen[item] = seen.get(item, 0) + 1\n",
    "    for key, count in seen.items():\n",
    "        if count > 1:\n",
    "            result.append(key)\n",
    "    return result\n",
    "\n",
    "print(duplicates([1, 2, 3, 2, 4, 5, 1]))"
   ]
  },
  {
   "cell_type": "code",
   "execution_count": 37,
   "id": "340cd155-0515-4936-9e9a-dff3b0b46bf2",
   "metadata": {},
   "outputs": [
    {
     "name": "stdout",
     "output_type": "stream",
     "text": [
      "9\n"
     ]
    }
   ],
   "source": [
    "#30. Return the largest of three numbers\n",
    "\n",
    "def largest_of_three(a, b, c):\n",
    "    return max(a, b, c)\n",
    "\n",
    "print(largest_of_three(5, 9, 3))"
   ]
  },
  {
   "cell_type": "code",
   "execution_count": null,
   "id": "8b5f567e-f8ca-432a-b9d4-4095afeb7187",
   "metadata": {},
   "outputs": [],
   "source": []
  }
 ],
 "metadata": {
  "kernelspec": {
   "display_name": "Python [conda env:base] *",
   "language": "python",
   "name": "conda-base-py"
  },
  "language_info": {
   "codemirror_mode": {
    "name": "ipython",
    "version": 3
   },
   "file_extension": ".py",
   "mimetype": "text/x-python",
   "name": "python",
   "nbconvert_exporter": "python",
   "pygments_lexer": "ipython3",
   "version": "3.12.7"
  }
 },
 "nbformat": 4,
 "nbformat_minor": 5
}
